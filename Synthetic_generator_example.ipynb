{
  "nbformat": 4,
  "nbformat_minor": 0,
  "metadata": {
    "colab": {
      "name": "Synthetic_generator_example.ipynb",
      "provenance": [],
      "collapsed_sections": [],
      "authorship_tag": "ABX9TyNpjuR2MI+72hKMiS5mxwrC",
      "include_colab_link": true
    },
    "kernelspec": {
      "name": "python3",
      "display_name": "Python 3"
    },
    "language_info": {
      "name": "python"
    }
  },
  "cells": [
    {
      "cell_type": "markdown",
      "metadata": {
        "id": "view-in-github",
        "colab_type": "text"
      },
      "source": [
        "<a href=\"https://colab.research.google.com/github/germanbrunini/Microseismic-Tools-Julia-Python/blob/main/Synthetic_generator_example.ipynb\" target=\"_parent\"><img src=\"https://colab.research.google.com/assets/colab-badge.svg\" alt=\"Open In Colab\"/></a>"
      ]
    },
    {
      "cell_type": "markdown",
      "metadata": {
        "id": "ls3zrDCQ9dYK"
      },
      "source": [
        "Loading some packages:"
      ]
    },
    {
      "cell_type": "code",
      "metadata": {
        "id": "838tnYBN9IJg"
      },
      "source": [
        "from scipy.signal import butter, lfilter\n",
        "#from scipy.stats import norm\n",
        "from numpy import linalg as LA\n",
        "from matplotlib import rc, font_manager\n",
        "import math\n",
        "import numpy as np\n",
        "import os\n",
        "\n",
        "import matplotlib.mlab as mlab\n",
        "import matplotlib.pyplot as plt\n",
        "import matplotlib.colors as colors\n",
        "\n",
        "rc('text', usetex=True)\n",
        "plt.rc('font', family='serif')"
      ],
      "execution_count": 1,
      "outputs": []
    },
    {
      "cell_type": "markdown",
      "metadata": {
        "id": "6nyegyOb9yib"
      },
      "source": [
        "Defining some useful functions:"
      ]
    },
    {
      "cell_type": "code",
      "metadata": {
        "id": "7WsC8m_E9x3Q"
      },
      "source": [
        "def Ricker(dt=0.002,f0=20.0):\n",
        "        nw = 2.0/(f0*dt);\n",
        "        nc = math.floor(nw/2);\n",
        "        t  = dt*np.arange(-nc,nc+1,1);\n",
        "        pf = f0;\n",
        "        pi = np.pi;\n",
        "        rick1  = pi*pf*t\n",
        "        rick12 = np.power(rick1,2)        # (pi*pf*t)^2;\n",
        "        rick2  = (1.0-2.0*rick12)         # (1.0-2.0*(pi*pf*t)^2)\n",
        "        rick3  = np.exp(-rick12)          # exp(-(pi*pf*t)^2);\n",
        "        rick   = np.multiply(rick2,rick3) #(1.0-2.0*(pi*pf*t)^2)*exp(-(pi*p[1]*t)^2);\n",
        "        return rick;\n",
        "\n",
        "def nextpow2(x):\n",
        "        absx  = abs(x);\n",
        "        lg2   = math.log(absx,2);\n",
        "        nxtp2 = int(2**math.ceil(lg2));\n",
        "        return nxtp2"
      ],
      "execution_count": 36,
      "outputs": []
    },
    {
      "cell_type": "markdown",
      "metadata": {
        "id": "jkZeun-NHfxh"
      },
      "source": [
        "The main synthetic function generator:"
      ]
    },
    {
      "cell_type": "code",
      "metadata": {
        "id": "LfrqXCGJ9ihH"
      },
      "source": [
        "def synth_generator(dt,ns,nr,R,t0s,S,f0,vp,vs,rho,M):\n",
        "        # Change units\n",
        "        pi = np.pi;\n",
        "        R  = R/1e3;  # receiver coordinates\n",
        "        S[:] = [x / 1e3 for x in S] # Source coordinates\n",
        "        vp = vp/1e3; # P-velocity\n",
        "        vs = vs/1e3; # S-velocity\n",
        "        vp3 = vp*vp*vp;  # elevate to ^3 power, once and for all.\n",
        "        vs3 = vs*vs*vs;  # elevate to ^3 power, once and for all.\n",
        "        rw  = Ricker(dt=dt, f0=f0); # computes riker wavelet\n",
        "        nrw = len(rw);              # get the length of rw\n",
        "        nf  = 4 * nextpow2(ns);     # get next power of 2, for padding\n",
        "        dw  = 2.0 * pi/(nf*dt);     # angular frec\n",
        "        zero_pad = np.zeros(nf-nrw)                       # zero tail\n",
        "        rwpad    = np.concatenate((rw,zero_pad),axis=0);  # padd with tail.\n",
        "        RW       = np.fft.fft(rwpad);                     # discrete FFT.\n",
        "        U        = np.zeros((ns, 3*nr));\n",
        "        Ux       = np.zeros((ns, nr));\n",
        "        Uy       = np.zeros((ns, nr));\n",
        "        Uz       = np.zeros((ns, nr));\n",
        "        for rec in range(nr):#range(nr):\n",
        "                SR = -(S - R[rec, :])    ; # vector pointing from Source to Receiver jth.\n",
        "                r  = LA.norm(SR)         ; # distance from source to Receiver jth\n",
        "                v  = np.transpose(np.array([ [x / r for x in SR] ])); # 3 X 1 column vector\n",
        "                cp = 1.0/(4*pi*rho*vp3*r); # aux value\n",
        "                cs = 1.0/(4*pi*rho*vs3*r); # aux value\n",
        "                vt = np.transpose(v)     ; # transpose v. 1X3 row vector\n",
        "                m1 = np.dot(v,cp*vt)     ; # v*cp*vt);\n",
        "                m2 = np.dot(M,v)         ; # M,v    ;\n",
        "                Ap = np.dot(m1,m2)       ; # v * cp * vt * M * v;\n",
        "                m3 = np.dot(v,vt) ;\n",
        "                m4 = np.dot(m3,m2);\n",
        "                As = cs*(m2 - m4)      ;  # cs*(M*v - v*vt*M*v);\n",
        "                tp = r/vp              ;  # arrival time p- for jth receiver\n",
        "                ts = r/vs              ;  # arrival time sh- for jth receiver\n",
        "                Uj  = np.array(np.zeros((nf, 3),dtype=complex)); # initialize fft matrix\n",
        "                Ujp = np.array(np.zeros((nf, 3),dtype=complex)); # initialize p-fft matrix\n",
        "                Ujs = np.array(np.zeros((nf, 3),dtype=complex)); # initialize sh-fft matrix\n",
        "                nf2 = int(math.floor(nf/2))          ; # nyquist frec\n",
        "                for k in np.arange(2,nf2+1):# from 2 to nf2\n",
        "                        w    = (k-1)*dw   ;    # angular frec\n",
        "                        imw  = 1j*w       ;\n",
        "                        imwR = imw*RW[k-1];    # first evaluate in 2nd index k=2-1=1\n",
        "                        tsp  = t0s + tp   ;\n",
        "                        tss  = t0s + ts   ;\n",
        "                        Ujp[k-1, :] = np.conj(np.transpose(np.array([up/np.exp(-imw*tsp) for up in Ap]))); # first frec is saved in index = 1, Not 0!\n",
        "                        Ujs[k-1, :] = np.conj(np.transpose(np.array([us/np.exp(-imw*tss) for us in As])));\n",
        "                        Uj[k-1, :]  = imwR * (Ujp[k-1,:] + Ujs[k-1,:]);\n",
        "                        Uj[nf-(k-1), :] = np.conj(Uj[k-1, :]);\n",
        "                #end\n",
        "                ujt    = (np.fft.ifft(Uj, axis=0)).real\n",
        "                ujcrop = ujt[0:350,:]\n",
        "                jx = 3*(rec-1) + 3\n",
        "                U[0:350,jx+0] = ujcrop[:,0]; # signal in xyz order\n",
        "                U[0:350,jx+1] = ujcrop[:,1];\n",
        "                U[0:350,jx+2] = ujcrop[:,2];\n",
        "\n",
        "                Ux[0:350,rec] = ujcrop[:,0]; # separate signal channels\n",
        "                Uy[0:350,rec] = ujcrop[:,1];\n",
        "                Uz[0:350,rec] = ujcrop[:,2];\n",
        "\n",
        "        return U,Ux,Uy,Uz"
      ],
      "execution_count": 37,
      "outputs": []
    },
    {
      "cell_type": "markdown",
      "metadata": {
        "id": "Z6XflPMjHkOi"
      },
      "source": [
        "Loading .txt from url"
      ]
    },
    {
      "cell_type": "code",
      "metadata": {
        "colab": {
          "base_uri": "https://localhost:8080/"
        },
        "id": "9-wS5HMr_8Je",
        "outputId": "7e936d56-9768-49c6-e299-34fdd4a1e2c4"
      },
      "source": [
        "import pandas as pd\n",
        "from keras.utils.data_utils import get_file\n",
        "\n",
        "# Downloading data\n",
        "url_txt = 'https://raw.githubusercontent.com/germanbrunini/Microseismic-Tools-Julia-Python/main/receptores/receptores_coord.txt'\n",
        "path = get_file('receptores_coord.txt',url_txt)\n",
        "data = pd.read_table(url_txt, header=0,delim_whitespace=True)\n",
        "print(data.describe(),\"\\n\")\n",
        "print(data.info(),\"\\n\")\n",
        "R = data.iloc[:,:].values\n",
        "print(type(R))"
      ],
      "execution_count": 38,
      "outputs": [
        {
          "output_type": "stream",
          "name": "stdout",
          "text": [
            "       0.0  100.0       240.0\n",
            "count  7.0    7.0    7.000000\n",
            "mean   0.0  100.0  120.000000\n",
            "std    0.0    0.0   64.807407\n",
            "min    0.0  100.0   30.000000\n",
            "25%    0.0  100.0   75.000000\n",
            "50%    0.0  100.0  120.000000\n",
            "75%    0.0  100.0  165.000000\n",
            "max    0.0  100.0  210.000000 \n",
            "\n",
            "<class 'pandas.core.frame.DataFrame'>\n",
            "RangeIndex: 7 entries, 0 to 6\n",
            "Data columns (total 3 columns):\n",
            " #   Column  Non-Null Count  Dtype  \n",
            "---  ------  --------------  -----  \n",
            " 0   0.0     7 non-null      float64\n",
            " 1   100.0   7 non-null      float64\n",
            " 2   240.0   7 non-null      float64\n",
            "dtypes: float64(3)\n",
            "memory usage: 296.0 bytes\n",
            "None \n",
            "\n",
            "<class 'numpy.ndarray'>\n"
          ]
        }
      ]
    },
    {
      "cell_type": "markdown",
      "metadata": {
        "id": "bteuzm1tHpe7"
      },
      "source": [
        "Input some constants:"
      ]
    },
    {
      "cell_type": "code",
      "metadata": {
        "id": "H3XxB_MOFFJy"
      },
      "source": [
        "tmin  = 0.000   ;  # first sample in processing window [s]\n",
        "tmax  = 0.350   ;  # last sample in processing window [s]\n",
        "dt    = 0.001   ;  # sampling interval [s]\n",
        "t0s   = 0.000   ;  # -0.037; # t0 of source [s]\n",
        "f0    = 100.0   ;  # Ricker wavelet central frequency [Hz]\n",
        "vp    = 4500.0  ;  # 3500.0; # P-wave velocity [m/s]\n",
        "vs    = 2500.0  ;  # 2400.0; # S-wave velocity [m/s]\n",
        "rho   = 2700    ;  # 1.0;    # density of the medium [kg/m³]\n",
        "S     = [240.0, 320.0, -353.5]"
      ],
      "execution_count": 39,
      "outputs": []
    },
    {
      "cell_type": "code",
      "metadata": {
        "id": "SLchZTpjFK7O"
      },
      "source": [
        "nr       = np.shape(R)[0]                 ; # number of receivers\n",
        "ns       = int(math.ceil(tmax/dt))        ; # number of samples in data"
      ],
      "execution_count": 40,
      "outputs": []
    },
    {
      "cell_type": "markdown",
      "metadata": {
        "id": "oc5u9CBKHuBd"
      },
      "source": [
        "Defining the moment tensor, which is 3x3 symetric matrix "
      ]
    },
    {
      "cell_type": "code",
      "metadata": {
        "id": "M1LOxfN1FNJM"
      },
      "source": [
        "M        = np.array([[0,-1,0],\n",
        "[-1,0,0],\n",
        "[0,0,0]])                      ; # Moment tensor. Symetric 3x3 matrix;"
      ],
      "execution_count": 41,
      "outputs": []
    },
    {
      "cell_type": "markdown",
      "metadata": {
        "id": "d1hjEIOyHzPX"
      },
      "source": [
        "...run function..."
      ]
    },
    {
      "cell_type": "code",
      "metadata": {
        "id": "1Ameou98FPCF"
      },
      "source": [
        "signal,ux,uy,uz = synth_generator(dt,ns,nr,R,t0s,S,f0,vp,vs,rho,M)"
      ],
      "execution_count": 42,
      "outputs": []
    },
    {
      "cell_type": "markdown",
      "metadata": {
        "id": "VcU1JfPOHZ83"
      },
      "source": [
        "Installing some needed packages for latex use...."
      ]
    },
    {
      "cell_type": "code",
      "metadata": {
        "id": "GskcqznRGmkl"
      },
      "source": [
        "! sudo apt-get install texlive-latex-recommended #1\n",
        "! sudo apt-get install dvipng texlive-fonts-recommended #2\n",
        "! wget http://mirrors.ctan.org/macros/latex/contrib/type1cm.zip #3\n",
        "! unzip type1cm.zip -d /tmp/type1cm #4\n",
        "! cd /tmp/type1cm/type1cm/ && sudo latex type1cm.ins  #5\n",
        "! sudo mkdir /usr/share/texmf/tex/latex/type1cm #6\n",
        "! sudo cp /tmp/type1cm/type1cm/type1cm.sty /usr/share/texmf/tex/latex/type1cm #7\n",
        "! sudo texhash #8\n",
        "! sudo apt install cm-super"
      ],
      "execution_count": null,
      "outputs": []
    },
    {
      "cell_type": "markdown",
      "metadata": {
        "id": "Vtoa7S1gH2b_"
      },
      "source": [
        "## Plotting"
      ]
    },
    {
      "cell_type": "code",
      "metadata": {
        "colab": {
          "base_uri": "https://localhost:8080/",
          "height": 1000
        },
        "id": "C6XM40o-FUzr",
        "outputId": "840c6e0f-5084-456e-9564-88b9d55b4d3b"
      },
      "source": [
        "# path = 'gathers/';\n",
        "# fdr_fig_  = \"gathers/\"\n",
        "# filenames   = os.listdir(path)      ;  # list of all file names in folder in path\n",
        "# num_files   = np.shape(filenames)[0];  # length of the list: number of files\n",
        "# num_gathers = int(num_files/3);\n",
        "\n",
        "num_gathers = 1\n",
        "##########################################\n",
        "##########################################\n",
        "for i in range(num_gathers):\n",
        "        iname     = str(i+1);\n",
        "        print(iname)\n",
        "        #filenamex = path+'datax.txt';\n",
        "        #filenamey = path+'datay.txt';\n",
        "        #filenamez = path+'dataz.txt';\n",
        "\n",
        "        datax     = ux #np.loadtxt(filenamex)               ; # extract x-data.\n",
        "        datay     = uy #np.loadtxt(filenamey)               ; # extract y-data.\n",
        "        dataz     = uz #np.loadtxt(filenamez)               ; # extract z-data.\n",
        "        [nsx,ntx] = np.shape(datax)                ; # dimension of x-data.\n",
        "        print()\n",
        "        print(\"dimension of x-data\")\n",
        "        print(\"number of samples   : \", nsx);\n",
        "        print(\"number of traces    : \", ntx);\n",
        "        [nsy,nty] = np.shape(datay)                ; # dimension of y-data.\n",
        "        print()\n",
        "        print(\"dimension of y-data\")\n",
        "        print(\"number of samples   : \", nsy);\n",
        "        print(\"number of traces    : \", nty);\n",
        "        [nsz,ntz] = np.shape(dataz)                ; # dimension of z-data.\n",
        "        print()\n",
        "        print(\"dimension of z-data\")\n",
        "        print(\"number of samples   : \", nsz);\n",
        "        print(\"number of traces    : \", ntz);\n",
        "\n",
        "\n",
        "        porc_norm = 0.99    # porcentage of normalize data.\n",
        "\n",
        "        maximx   = np.amax(abs(datax))             ; # extract data maximum x normalization.\n",
        "        maximy   = np.amax(abs(datay))             ; # extract data maximum x normalization.\n",
        "        maximz   = np.amax(abs(dataz))             ; # extract data maximum x normalization.\n",
        "        max      = np.amax([maximx,maximy,maximz]) ;\n",
        "\n",
        "        datax    = datax/max                    ; # normalize\n",
        "        datay    = datay/max                    ; # normalize\n",
        "        dataz    = dataz/max                    ; # normalize\n",
        "\n",
        "        datax    = datax*porc_norm                ; # take a porcentage of normalize data.\n",
        "        datay    = datay*porc_norm                ; # take a porcentage of normalize data.\n",
        "        dataz    = dataz*porc_norm                ; # take a porcentage of normalize data.\n",
        "\n",
        "        ts = 0.0 ; # time begins in 0.0 ms\n",
        "        te = 300.0;#nsx  ; # time ends at m ms\n",
        "\n",
        "        # Because data is normalize to 1 (or porc of 1)\n",
        "        # each trace occupies 2 vertical units (maximum).\n",
        "\n",
        "        # we need at least 2*nt vertical space in ylim\n",
        "        first_trace = 0        ;  # first trace is positioned at zero.\n",
        "        last_trace  = 2*(ntx-1);  # (nt-1) : number of intervals between nt traces\n",
        "        # 2*     : time 2, vertical space.\n",
        "        minY  = (first_trace - 1) - 0.2 ;\n",
        "        maxY  = (last_trace  + 1) + 0.2 ;\n",
        "\n",
        "        lw     = 1.5;  # linewidth\n",
        "        ls     = '-';  # linestyle\n",
        "        alp    = 0.6;  # alpha ransparency for line\n",
        "        xlab_s = 15;   # x-label size\n",
        "        ylab_s = 15;   # y-label size\n",
        "        tit_s  = 15;   # title size\n",
        "        tic_s  = 12;   # tics size\n",
        "\n",
        "        scale  = 3.0; # scales data (1.0: 0 scaling). Warn: makes data bigger.\n",
        "        yticksnum     = np.linspace(first_trace,last_trace,ntx);                # y tick numbers\n",
        "        ytickslabels  = np.tile(((np.linspace(1,ntx,ntx)).astype(np.int64)),1); # y tick labels\n",
        "\n",
        "        fig2,ax2  = plt.subplots(figsize=(10,14));\n",
        "        for i in range(ntx):\n",
        "                # x-plot\n",
        "                gath_X = scale*datax[:,i];\n",
        "                gath_Y = scale*datay[:,i];\n",
        "                gath_Z = scale*dataz[:,i];\n",
        "\n",
        "                plt.subplot(3,1,1)\n",
        "                plt.plot(gath_X  + 2*i,\n",
        "                linestyle = ls,\n",
        "                linewidth = lw,\n",
        "                color     = 'black',\n",
        "                alpha     = alp)\n",
        "                left,right = plt.xlim()\n",
        "                plt.xlim(left  = ts)  # adjust the left leaving right unchanged\n",
        "                plt.xlim(right = te)  # adjust the right leaving left unchanged\n",
        "                plt.tick_params(\n",
        "                axis        = \"y\",\n",
        "                width       = 1,\n",
        "                length      = 2.5,\n",
        "                direction   = \"in\",\n",
        "                color       = \"black\",\n",
        "                pad         = 2.5,\n",
        "                labelsize   = tic_s,\n",
        "                labelcolor  = \"black\",\n",
        "                colors      = \"black\",\n",
        "                zorder      = 20,\n",
        "                bottom      = \"on\", top      = \"off\", left      = \"on\", right      = \"off\",\n",
        "                labelbottom = \"on\", labeltop = \"off\", labelleft = \"on\", labelright = \"off\");\n",
        "                bottom, top = plt.ylim()\n",
        "                plt.ylim(bottom = minY)\n",
        "                plt.ylim(top    = maxY)\n",
        "                plt.yticks(yticksnum,ytickslabels);\n",
        "                plt.tick_params(\n",
        "                axis        = \"x\",\n",
        "                width       = 1,\n",
        "                length      = 2.5,\n",
        "                direction   = \"in\",\n",
        "                color       = \"black\",\n",
        "                pad         = 2.5,\n",
        "                labelsize   = tic_s,\n",
        "                labelcolor  = \"black\",\n",
        "                colors      = \"black\",\n",
        "                zorder      = 20,\n",
        "                bottom      = \"on\", top      = \"off\", left      = \"on\", right      = \"off\",\n",
        "                labelbottom = \"on\", labeltop = \"off\", labelleft = \"on\", labelright = \"off\");\n",
        "                plt.ylabel(r\"receiver\",fontsize   = ylab_s)\n",
        "                plt.title(r\"x-component\",fontsize = tit_s)\n",
        "                plt.subplot(3,1,2)\n",
        "                # y-plot\n",
        "                plt.plot(gath_Y  + 2*i,\n",
        "                linestyle = ls,\n",
        "                linewidth = lw,\n",
        "                color     = 'black',\n",
        "                alpha     = alp)\n",
        "                left,right = plt.xlim()\n",
        "                plt.xlim(left  = ts)  # adjust the left leaving right unchanged\n",
        "                plt.xlim(right = te)  # adjust the right leaving left unchanged\n",
        "                plt.tick_params(\n",
        "                axis        = \"y\",\n",
        "                width       = 1,\n",
        "                length      = 2.5,\n",
        "                direction   = \"in\",\n",
        "                color       = \"black\",\n",
        "                pad         = 2.5,\n",
        "                labelsize   = tic_s,\n",
        "                labelcolor  = \"black\",\n",
        "                colors      = \"black\",\n",
        "                zorder      = 20,\n",
        "                bottom      = \"on\", top      = \"off\", left      = \"on\", right      = \"off\",\n",
        "                labelbottom = \"on\", labeltop = \"off\", labelleft = \"on\", labelright = \"off\");\n",
        "                bottom, top = plt.ylim()\n",
        "                plt.ylim(bottom = minY)\n",
        "                plt.ylim(top    = maxY)\n",
        "                plt.yticks(yticksnum,ytickslabels);\n",
        "                plt.tick_params(\n",
        "                axis        = \"x\",\n",
        "                width       = 1,\n",
        "                length      = 2.5,\n",
        "                direction   = \"in\",\n",
        "                color       = \"black\",\n",
        "                pad         = 2.5,\n",
        "                labelsize   = tic_s,\n",
        "                labelcolor  = \"black\",\n",
        "                colors      = \"black\",\n",
        "                zorder      = 20,\n",
        "                bottom      = \"on\", top      = \"off\", left      = \"on\", right      = \"off\",\n",
        "                labelbottom = \"on\", labeltop = \"off\", labelleft = \"on\", labelright = \"off\");\n",
        "                plt.ylabel(r\"receiver\",fontsize   = ylab_s)\n",
        "                plt.title(r\"y-component\",fontsize = tit_s)\n",
        "                plt.subplot(3,1,3)\n",
        "                # z-plot\n",
        "                plt.plot(gath_Z  + 2*i,\n",
        "                linestyle = ls,\n",
        "                linewidth = lw,\n",
        "                color     = 'black',\n",
        "                alpha     = alp)\n",
        "                left,right = plt.xlim()\n",
        "                plt.xlim(left  = ts)  # adjust the left leaving right unchanged\n",
        "                plt.xlim(right = te)  # adjust the right leaving left unchanged\n",
        "                plt.tick_params(\n",
        "                axis        = \"y\",\n",
        "                width       = 1,\n",
        "                length      = 2.5,\n",
        "                direction   = \"in\",\n",
        "                color       = \"black\",\n",
        "                pad         = 2.5,\n",
        "                labelsize   = tic_s,\n",
        "                labelcolor  = \"black\",\n",
        "                colors      = \"black\",\n",
        "                zorder      = 20,\n",
        "                bottom      = \"on\", top      = \"off\", left      = \"on\", right      = \"off\",\n",
        "                labelbottom = \"on\", labeltop = \"off\", labelleft = \"on\", labelright = \"off\");\n",
        "                bottom, top = plt.ylim()\n",
        "                plt.ylim(bottom = minY)\n",
        "                plt.ylim(top    = maxY)\n",
        "                plt.yticks(yticksnum,ytickslabels);\n",
        "                plt.tick_params(\n",
        "                axis        = \"x\",\n",
        "                width       = 1,\n",
        "                length      = 2.5,\n",
        "                direction   = \"in\",\n",
        "                color       = \"black\",\n",
        "                pad         = 2.5,\n",
        "                labelsize   = tic_s,\n",
        "                labelcolor  = \"black\",\n",
        "                colors      = \"black\",\n",
        "                zorder      = 20,\n",
        "                bottom      = \"on\", top      = \"off\", left      = \"on\", right      = \"off\",\n",
        "                labelbottom = \"on\", labeltop = \"off\", labelleft = \"on\", labelright = \"off\");\n",
        "                plt.xlabel(r\"time (ms)\",fontsize  = xlab_s)\n",
        "                plt.ylabel(r\"receiver\",fontsize   = ylab_s)\n",
        "                plt.title(r\"z-component\",fontsize = tit_s)\n",
        "                plt.tight_layout(w_pad=0.0,h_pad=0.2)\n",
        "\n",
        "        # fname = fdr_fig_+'gather_xyz.png'\n",
        "        # plt.savefig(fname, bbox_inches='tight',\n",
        "        # dpi=300,\n",
        "        # facecolor='w',\n",
        "        # edgecolor='w',\n",
        "        # orientation='portrait',\n",
        "        # papertype=None,\n",
        "        # transparent=False,\n",
        "        # pad_inches=0.1,\n",
        "        # frameon=None,\n",
        "        # metadata=None)\n",
        "        # fname = fdr_fig_+'gather_xyz_'+iname+'.eps'\n",
        "        # plt.savefig(fname)\n",
        "        plt.show()\n",
        "        # plt.close(fig2)"
      ],
      "execution_count": 47,
      "outputs": [
        {
          "output_type": "stream",
          "name": "stdout",
          "text": [
            "1\n",
            "\n",
            "dimension of x-data\n",
            "number of samples   :  350\n",
            "number of traces    :  7\n",
            "\n",
            "dimension of y-data\n",
            "number of samples   :  350\n",
            "number of traces    :  7\n",
            "\n",
            "dimension of z-data\n",
            "number of samples   :  350\n",
            "number of traces    :  7\n"
          ]
        },
        {
          "output_type": "stream",
          "name": "stderr",
          "text": [
            "/usr/local/lib/python3.7/dist-packages/ipykernel_launcher.py:84: MatplotlibDeprecationWarning: Adding an axes using the same arguments as a previous axes currently reuses the earlier instance.  In a future version, a new instance will always be created and returned.  Meanwhile, this warning can be suppressed, and the future behavior ensured, by passing a unique label to each axes instance.\n",
            "/usr/local/lib/python3.7/dist-packages/ipykernel_launcher.py:125: MatplotlibDeprecationWarning: Adding an axes using the same arguments as a previous axes currently reuses the earlier instance.  In a future version, a new instance will always be created and returned.  Meanwhile, this warning can be suppressed, and the future behavior ensured, by passing a unique label to each axes instance.\n",
            "/usr/local/lib/python3.7/dist-packages/ipykernel_launcher.py:167: MatplotlibDeprecationWarning: Adding an axes using the same arguments as a previous axes currently reuses the earlier instance.  In a future version, a new instance will always be created and returned.  Meanwhile, this warning can be suppressed, and the future behavior ensured, by passing a unique label to each axes instance.\n",
            "/usr/local/lib/python3.7/dist-packages/ipykernel_launcher.py:84: MatplotlibDeprecationWarning: Adding an axes using the same arguments as a previous axes currently reuses the earlier instance.  In a future version, a new instance will always be created and returned.  Meanwhile, this warning can be suppressed, and the future behavior ensured, by passing a unique label to each axes instance.\n",
            "/usr/local/lib/python3.7/dist-packages/ipykernel_launcher.py:125: MatplotlibDeprecationWarning: Adding an axes using the same arguments as a previous axes currently reuses the earlier instance.  In a future version, a new instance will always be created and returned.  Meanwhile, this warning can be suppressed, and the future behavior ensured, by passing a unique label to each axes instance.\n",
            "/usr/local/lib/python3.7/dist-packages/ipykernel_launcher.py:167: MatplotlibDeprecationWarning: Adding an axes using the same arguments as a previous axes currently reuses the earlier instance.  In a future version, a new instance will always be created and returned.  Meanwhile, this warning can be suppressed, and the future behavior ensured, by passing a unique label to each axes instance.\n",
            "/usr/local/lib/python3.7/dist-packages/ipykernel_launcher.py:84: MatplotlibDeprecationWarning: Adding an axes using the same arguments as a previous axes currently reuses the earlier instance.  In a future version, a new instance will always be created and returned.  Meanwhile, this warning can be suppressed, and the future behavior ensured, by passing a unique label to each axes instance.\n",
            "/usr/local/lib/python3.7/dist-packages/ipykernel_launcher.py:125: MatplotlibDeprecationWarning: Adding an axes using the same arguments as a previous axes currently reuses the earlier instance.  In a future version, a new instance will always be created and returned.  Meanwhile, this warning can be suppressed, and the future behavior ensured, by passing a unique label to each axes instance.\n",
            "/usr/local/lib/python3.7/dist-packages/ipykernel_launcher.py:167: MatplotlibDeprecationWarning: Adding an axes using the same arguments as a previous axes currently reuses the earlier instance.  In a future version, a new instance will always be created and returned.  Meanwhile, this warning can be suppressed, and the future behavior ensured, by passing a unique label to each axes instance.\n",
            "/usr/local/lib/python3.7/dist-packages/ipykernel_launcher.py:84: MatplotlibDeprecationWarning: Adding an axes using the same arguments as a previous axes currently reuses the earlier instance.  In a future version, a new instance will always be created and returned.  Meanwhile, this warning can be suppressed, and the future behavior ensured, by passing a unique label to each axes instance.\n",
            "/usr/local/lib/python3.7/dist-packages/ipykernel_launcher.py:125: MatplotlibDeprecationWarning: Adding an axes using the same arguments as a previous axes currently reuses the earlier instance.  In a future version, a new instance will always be created and returned.  Meanwhile, this warning can be suppressed, and the future behavior ensured, by passing a unique label to each axes instance.\n",
            "/usr/local/lib/python3.7/dist-packages/ipykernel_launcher.py:167: MatplotlibDeprecationWarning: Adding an axes using the same arguments as a previous axes currently reuses the earlier instance.  In a future version, a new instance will always be created and returned.  Meanwhile, this warning can be suppressed, and the future behavior ensured, by passing a unique label to each axes instance.\n",
            "/usr/local/lib/python3.7/dist-packages/ipykernel_launcher.py:84: MatplotlibDeprecationWarning: Adding an axes using the same arguments as a previous axes currently reuses the earlier instance.  In a future version, a new instance will always be created and returned.  Meanwhile, this warning can be suppressed, and the future behavior ensured, by passing a unique label to each axes instance.\n",
            "/usr/local/lib/python3.7/dist-packages/ipykernel_launcher.py:125: MatplotlibDeprecationWarning: Adding an axes using the same arguments as a previous axes currently reuses the earlier instance.  In a future version, a new instance will always be created and returned.  Meanwhile, this warning can be suppressed, and the future behavior ensured, by passing a unique label to each axes instance.\n",
            "/usr/local/lib/python3.7/dist-packages/ipykernel_launcher.py:167: MatplotlibDeprecationWarning: Adding an axes using the same arguments as a previous axes currently reuses the earlier instance.  In a future version, a new instance will always be created and returned.  Meanwhile, this warning can be suppressed, and the future behavior ensured, by passing a unique label to each axes instance.\n",
            "/usr/local/lib/python3.7/dist-packages/ipykernel_launcher.py:84: MatplotlibDeprecationWarning: Adding an axes using the same arguments as a previous axes currently reuses the earlier instance.  In a future version, a new instance will always be created and returned.  Meanwhile, this warning can be suppressed, and the future behavior ensured, by passing a unique label to each axes instance.\n",
            "/usr/local/lib/python3.7/dist-packages/ipykernel_launcher.py:125: MatplotlibDeprecationWarning: Adding an axes using the same arguments as a previous axes currently reuses the earlier instance.  In a future version, a new instance will always be created and returned.  Meanwhile, this warning can be suppressed, and the future behavior ensured, by passing a unique label to each axes instance.\n",
            "/usr/local/lib/python3.7/dist-packages/ipykernel_launcher.py:167: MatplotlibDeprecationWarning: Adding an axes using the same arguments as a previous axes currently reuses the earlier instance.  In a future version, a new instance will always be created and returned.  Meanwhile, this warning can be suppressed, and the future behavior ensured, by passing a unique label to each axes instance.\n"
          ]
        },
        {
          "output_type": "display_data",
          "data": {
            "image/png": "[encoded data removed]",
            "text/plain": [
              "<Figure size 720x1008 with 3 Axes>"
            ]
          },
          "metadata": {
            "needs_background": "light"
          }
        }
      ]
    }
  ]
}